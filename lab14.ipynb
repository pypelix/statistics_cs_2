{
 "cells": [
  {
   "cell_type": "markdown",
   "metadata": {},
   "source": [
    "# Інтервальне оцінювання параметрів гауссівських випадкових величин"
   ]
  },
  {
   "cell_type": "markdown",
   "metadata": {},
   "source": [
    "## _Приклад і завдання_"
   ]
  },
  {
   "cell_type": "code",
   "execution_count": 1,
   "metadata": {},
   "outputs": [],
   "source": [
    "import numpy as np\n",
    "import matplotlib.pyplot as plt\n",
    "import scipy.stats as ss"
   ]
  },
  {
   "cell_type": "markdown",
   "metadata": {},
   "source": [
    "Документація:\n",
    "\n",
    "https://docs.scipy.org/doc/scipy/reference/stats.html\n",
    "\n",
    "https://matplotlib.org/1.2.1/examples/pylab_examples/errorbar_demo.html\n",
    "\n"
   ]
  },
  {
   "cell_type": "markdown",
   "metadata": {},
   "source": [
    "### Задаємо обсяг вибірки, параметри розподілу Гаусса і генеруємо послідовність псевдовипадкових чисел"
   ]
  },
  {
   "cell_type": "code",
   "execution_count": 2,
   "metadata": {
    "scrolled": true
   },
   "outputs": [],
   "source": [
    "n = 1000  #обсяг вибірки\n",
    "\n",
    "mean =  5  #математичне сподівання\n",
    "stdev = 3  #середнє квадратичне відхилення\n",
    "\n",
    "X = np.random.normal(mean, stdev, n) #генеруємо n псевдовипадкових чисел з нормальним розподілом\n"
   ]
  },
  {
   "cell_type": "markdown",
   "metadata": {},
   "source": [
    "### Побудова довірчого інтервала для математичного сподівання за умови, що дисперсія невідома"
   ]
  },
  {
   "cell_type": "code",
   "execution_count": 3,
   "metadata": {},
   "outputs": [
    {
     "name": "stdout",
     "output_type": "stream",
     "text": [
      "Точкова оцінка математичного сподівання =            4.933\n",
      "Точкова оцінка середнього квадратичного відхилення = 3.038\n"
     ]
    }
   ],
   "source": [
    "# знаходимо точкові оцінки параметрів\n",
    "\n",
    "m = X.mean() # точкова оцінка математичного сподівання\n",
    "s = X.std(ddof=1) # точкова оцінка середнього квадратичного відхилення\n",
    "# якщо потрібно оцінити дисперсію, то це можна зробити так:   X.var(ddof=1)\n",
    "\n",
    "# будуємо довірчий інтервал\n",
    "\n",
    "gamma = 0.95 #довірча ймовірність\n",
    "\n",
    "kv = ss.t.ppf((1+gamma)/2, n-1) #квантиль t-розподілу Стьюдента з n-1 ступенями вільності\n",
    "\n",
    "print(f'Точкова оцінка математичного сподівання =            {m:.3f}')\n",
    "print(f'Точкова оцінка середнього квадратичного відхилення = {s:.3f}')"
   ]
  },
  {
   "cell_type": "code",
   "execution_count": 4,
   "metadata": {},
   "outputs": [
    {
     "name": "stdout",
     "output_type": "stream",
     "text": [
      "Довірчий інтервал для математичного сподівання при невідомій дисперсії: [4.744, 5.121]\n"
     ]
    }
   ],
   "source": [
    "L = m - kv*s/np.sqrt(n) # лівий кінець інтервалу \n",
    "R = m + kv*s/np.sqrt(n) # правий кінець інтервалу\n",
    "\n",
    "print(f'Довірчий інтервал для математичного сподівання при невідомій дисперсії: [{L:.3f}, {R:.3f}]')"
   ]
  },
  {
   "cell_type": "markdown",
   "metadata": {},
   "source": [
    "### Отже, якщо маємо яку-небудь практичну задачу, то отримуємо результати спостережень (вибірку), і на її основі будуємо інтервальну оцінку математичного сподівання, як це було зроблено вище."
   ]
  },
  {
   "cell_type": "markdown",
   "metadata": {},
   "source": [
    "### Але довірчий інтервал - це випадковий інтервал (його кінці - випадкові величини), який накриває невідомий параметр із заданою наперед довірчою ймовірністю. Тому якщо у тій же задачі, за тих же умов отримати іншу вибірку (провівши ще одну серію вимірювань чи спостережень), то отримаємо вже іншу реалізацію такого інтервалу."
   ]
  },
  {
   "cell_type": "markdown",
   "metadata": {},
   "source": [
    "### Проведемо далі комп'ютерний експеримент, моделюючи 50 вибірок (по 1000 елементів) незалежних гауссівських випадкових величин і будуючи довірчі інтервали на основі кожної вибірки."
   ]
  },
  {
   "cell_type": "code",
   "execution_count": 5,
   "metadata": {},
   "outputs": [],
   "source": [
    "m_est = np.zeros(50)\n",
    "Left = np.zeros(50); Right = np.zeros(50)\n",
    "\n",
    "for i in range(50):\n",
    "    X = np.random.normal(mean, stdev, n)\n",
    "    m = X.mean(); s = X.std(ddof=1)\n",
    "    m_est[i] = m  \n",
    "    Left[i] = m - kv*s/np.sqrt(n); Right[i] = m + kv*s/np.sqrt(n) \n",
    "    "
   ]
  },
  {
   "cell_type": "markdown",
   "metadata": {},
   "source": [
    "#### Візуалізуємо ці інтервали"
   ]
  },
  {
   "cell_type": "code",
   "execution_count": 6,
   "metadata": {},
   "outputs": [
    {
     "data": {
      "image/png": "[encoded data removed]",
      "text/plain": [
       "<Figure size 1080x432 with 1 Axes>"
      ]
     },
     "metadata": {
      "needs_background": "light"
     },
     "output_type": "display_data"
    }
   ],
   "source": [
    "plt.figure(figsize=(15,6))\n",
    "plt.grid()\n",
    "\n",
    "count = np.arange(0,50)\n",
    "int_err = [m_est-Left, Right-m_est]\n",
    "\n",
    "plt.errorbar(count, m_est, yerr=int_err, fmt='o', capsize = 5) # див. посилання на документацію вище\n",
    "\n",
    "plt.hlines(mean, 0, 50, colors = 'red')\n",
    "            \n",
    "'''\n",
    "Отже, на рисунку, червоною лінією позначено математичне сподівання (тобто характеристика, яка оцінюється, на практиці - невідома),\n",
    "візуалізовано 50 довірчих інтервалів, точками позначено точкові оцінки математичного сподівання\n",
    "'''\n",
    "plt.show()"
   ]
  },
  {
   "cell_type": "markdown",
   "metadata": {},
   "source": [
    "##### Зверніть увагу, що деякі інтервали не накривають істинне значення математичного сподівання. Чому?\n",
    "#### Проведіть кілька експериментів, змінюючи обсяг вибірки, довірчу ймовірність, інші параметри. Зробіть висновки."
   ]
  },
  {
   "cell_type": "markdown",
   "metadata": {},
   "source": [
    "## Далі зробіть те саме, що і в прикладі для задачі побудови:\n",
    "* ## довірчого інтервалу для математичного сподівання гауссівської випадкової величини з відомою дисперсією, \n",
    "* ## довірчого інтервалу для дисперсії гауссівської випадкової величини з відомим математичним сподіванням,\n",
    "* ## довірчого інтервалу для дисперсії гауссівської випадкової величини з невідомим математичним сподіванням."
   ]
  },
  {
   "cell_type": "markdown",
   "metadata": {},
   "source": [
    "## Результати оформіть у вигляді звіту. Не забудьте про висновки."
   ]
  }
 ],
 "metadata": {
  "kernelspec": {
   "display_name": "Python 3",
   "language": "python",
   "name": "python3"
  },
  "language_info": {
   "codemirror_mode": {
    "name": "ipython",
    "version": 3
   },
   "file_extension": ".py",
   "mimetype": "text/x-python",
   "name": "python",
   "nbconvert_exporter": "python",
   "pygments_lexer": "ipython3",
   "version": "3.7.1"
  },
  "varInspector": {
   "cols": {
    "lenName": 16,
    "lenType": 16,
    "lenVar": 40
   },
   "kernels_config": {
    "python": {
     "delete_cmd_postfix": "",
     "delete_cmd_prefix": "del ",
     "library": "var_list.py",
     "varRefreshCmd": "print(var_dic_list())"
    },
    "r": {
     "delete_cmd_postfix": ") ",
     "delete_cmd_prefix": "rm(",
     "library": "var_list.r",
     "varRefreshCmd": "cat(var_dic_list()) "
    }
   },
   "types_to_exclude": [
    "module",
    "function",
    "builtin_function_or_method",
    "instance",
    "_Feature"
   ],
   "window_display": false
  }
 },
 "nbformat": 4,
 "nbformat_minor": 2
}
