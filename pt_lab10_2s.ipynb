{
 "cells": [
  {
   "cell_type": "markdown",
   "metadata": {},
   "source": [
    "## Лабораторна робота №10"
   ]
  },
  {
   "cell_type": "markdown",
   "metadata": {},
   "source": [
    "# 10.2 Оцінювання числових характеристик випадкових величин"
   ]
  },
  {
   "cell_type": "code",
   "execution_count": 1,
   "metadata": {},
   "outputs": [],
   "source": [
    "import numpy as np\n",
    "import matplotlib.pyplot as plt\n",
    "\n",
    "plt.rcParams.update({'font.size': 16, 'font.family': 'serif'})\n",
    "\n",
    "# імпорт функції skew для оцінювання коефіцієнта асиметрії\n",
    "# https://docs.scipy.org/doc/scipy/reference/generated/scipy.stats.skew.html\n",
    "from scipy.stats import skew\n",
    "\n",
    "# імпорт функції kurtosis для оцінювання коефіцієнта ексцесу\n",
    "# https://docs.scipy.org/doc/scipy/reference/generated/scipy.stats.kurtosis.html\n",
    "from scipy.stats import kurtosis"
   ]
  },
  {
   "cell_type": "markdown",
   "metadata": {},
   "source": [
    "### Статистичне оцінювання числових характеристик випадкових величин (детальніше див. матеріал Лекції 14) та відповідні функції Python"
   ]
  },
  {
   "cell_type": "markdown",
   "metadata": {},
   "source": [
    "Нехай маємо повторну вибірку \n",
    "### $({\\xi _1},\\;{\\xi _2},\\;...,\\;{\\xi _n})$  \n",
    "Раніше ми аналізували ймовірнісні характеристики випадкових величин, зокрема, функцію та щільність розподілу, знаходили математичне сподівання, дисперсію, коефіцієнти асиметрії та ексцесу та ін. Зараз йде мова про статистичне **оцінювання** ймовірнісних характеристик на основі вибірки - результатів багатократних спостережень випадкової величини. Важливо усвідомити різницю між ймовірнісними характеристиками випадкових величин та їх оцінками (що отримуються на основі опрацювання результатів експерименту)   "
   ]
  },
  {
   "cell_type": "markdown",
   "metadata": {},
   "source": [
    "**Оцінка математичного сподівання** елементів вибірки має такий вигляд:  \n",
    "### ${\\nu _1} = \\frac{1}{n}\\sum\\limits_{k = 1}^n {{\\xi _k}} $"
   ]
  },
  {
   "cell_type": "markdown",
   "metadata": {},
   "source": [
    "Нехай маємо реалізацію вибірки (це множина чисел, які отримали в результаті проведення незалежних вимірювань чи спостережень якої-небудь випадкової величини, тобто поява всіх цих чисел підпорядкована одному й тому ж ймовірнісному закону, характеристики якого ми збираємось оцінити на основі опрацювання заданої реалізації вибірки):  \n",
    "\n",
    "#### (4.56,  0.25,  4.05,  5.63,  8.62, 8.49, 15.14,  0.09,  9.68,  6.88, 8.55,  9.18,  0.71,  8.05,  7.49, -1.64, -5.08,  8.35,  1.68, 12.26, -3.98)\n"
   ]
  },
  {
   "cell_type": "code",
   "execution_count": 2,
   "metadata": {},
   "outputs": [
    {
     "data": {
      "text/plain": [
       "5.188571428571429"
      ]
     },
     "execution_count": 2,
     "metadata": {},
     "output_type": "execute_result"
    }
   ],
   "source": [
    "X = np.array([4.56, 0.25, 4.05, 5.63, 8.62, 8.49, 15.14, 0.09, 9.68, 6.88, 8.55, 9.18, 0.71, 8.05, 7.49, -1.64, -5.08, 8.35, 1.68, 12.26, -3.98])\n",
    "\n",
    "# оцінка математичного сподівання\n",
    "m_est = np.mean(X)\n",
    "\n",
    "# або так\n",
    "m_est = X.mean()\n",
    "\n",
    "m_est"
   ]
  },
  {
   "cell_type": "markdown",
   "metadata": {},
   "source": [
    "**Оцінка медіани**   \n",
    "Якщо відсортувати вибірку у неспадному порядку, то отримаємо сукупність випадкових величин, яка називається **варіаційним рядом.** Нижче наведено реалізацію варіаційного ряду для нашого прикладу:  \n",
    "#### (-5.08, -3.98, -1.64,  0.09,  0.25,  0.71,  1.68,  4.05,  4.56,  5.63, <span style=\"color:red\">6.88</span>,  7.49,  8.05,  8.35,  8.49,  8.55,  <span style=\"color:red\">8.62</span>,  9.18,  9.68,  12.26, 15.14)\n",
    "Кожен елемент варіаційного ряду називається **порядковою статистикою.** Номер елемента вибірки у варіаційному ряді називається його **рангом.** Наприклад, елемент, що дорівнює 4.05 (третій елемент вибірки) має ранг 8.  \n",
    "**Оцінкою медіани** є елемент вибірки, що має ранг (n+1)/2 (**якщо n - непарне**), тобто той елемент, що стоїть посередині варіаційного ряду, у наведеному прикладі це число 6.88 (цей елемент має ранг (21+1)/2=11). Якщо **n - парне**, то **оцінкою медіани** є середнє арифметичне елементів варіаційного ряду з рангами n/2 i n/2+1, тобто середнє арифметичне двох елементів, що стоять посередині варіаційного ряду. Наприклад, якщо маємо вибірку (-1, 2, 5, -3, 7, 4), то варіаційний ряд виглядає так: (-3, -1, **2, 4,** 5, 7), оцінка медіани дорівнює (2+4)/2 = 3."
   ]
  },
  {
   "cell_type": "code",
   "execution_count": 3,
   "metadata": {},
   "outputs": [
    {
     "data": {
      "text/plain": [
       "6.88"
      ]
     },
     "execution_count": 3,
     "metadata": {},
     "output_type": "execute_result"
    }
   ],
   "source": [
    "# оцінка медіани\n",
    "med_est = np.median(X)\n",
    "\n",
    "med_est"
   ]
  },
  {
   "cell_type": "markdown",
   "metadata": {},
   "source": [
    "Медіана - це квантиль рівня 0.5. Як оцінити квантиль розподілу рівня $\\large \\gamma$, де $\\large 0 < \\gamma < 1$?   \n",
    "**Оцінкою квантилю** рівня $\\large \\gamma$ є порядкова статистика з рангом $\\large \\left[ {n \\cdot \\gamma} \\right] + 1$, де $\\large \\left[ x \\right]$ - ціла частина числа $\\large x$ (це одна з найпростіших оцінок). Наприклад, оцінкою квантиля рівня 0.8 є елемент вибірки, що має ранг $\\large \\left[ {21 \\cdot 0.8} \\right] + 1 = 16 + 1 = 17$, тобто оцінка квантиля рівня 0.8 дорівнює 8.62."
   ]
  },
  {
   "cell_type": "code",
   "execution_count": 4,
   "metadata": {},
   "outputs": [
    {
     "data": {
      "text/plain": [
       "8.62"
      ]
     },
     "execution_count": 4,
     "metadata": {},
     "output_type": "execute_result"
    }
   ],
   "source": [
    "# оцінка квантиля рівня 0.8\n",
    "quant_08_est = np.quantile(X, 0.8)\n",
    "\n",
    "quant_08_est"
   ]
  },
  {
   "cell_type": "markdown",
   "metadata": {},
   "source": [
    "**Оцінка дисперсії** (зсунена, асимптотично незсунена):\n",
    "### ${\\mu _2} = \\frac{1}{n}\\sum\\limits_{k = 1}^n {{{\\left( {{\\xi _k} - {\\nu _1}} \\right)}^2}} $\n",
    "\n",
    "Незсунена **оцінка дисперсії**:\n",
    "### ${\\tilde \\mu _2} = \\frac{1}{{n - 1}}\\sum\\limits_{k = 1}^n {{{\\left( {{\\xi _k} - {\\nu _1}} \\right)}^2}} $"
   ]
  },
  {
   "cell_type": "code",
   "execution_count": 5,
   "metadata": {},
   "outputs": [
    {
     "data": {
      "text/plain": [
       "28.31141285714286"
      ]
     },
     "execution_count": 5,
     "metadata": {},
     "output_type": "execute_result"
    }
   ],
   "source": [
    "# незсунена оцінка дисперсії (якщо ddof = 0 (або не вказувати ddof), то буде зсунена оцінка дисперсії)\n",
    "var_est = np.var(X, ddof = 1)\n",
    "\n",
    "# або так\n",
    "var_est = X.var(ddof = 1)\n",
    "\n",
    "var_est"
   ]
  },
  {
   "cell_type": "code",
   "execution_count": 6,
   "metadata": {},
   "outputs": [
    {
     "data": {
      "text/plain": [
       "5.3208470056131905"
      ]
     },
     "execution_count": 6,
     "metadata": {},
     "output_type": "execute_result"
    }
   ],
   "source": [
    "# оцінка середнього квадратичного відхилення (корінь з дисперсії), параметр ddof має той же зміст, що і вище\n",
    "stdev_est = np.std(X, ddof = 1)\n",
    "\n",
    "# або так\n",
    "stdev_est = X.std(ddof = 1)\n",
    "\n",
    "stdev_est"
   ]
  },
  {
   "cell_type": "markdown",
   "metadata": {},
   "source": [
    "**Оцінка коефіцієнта асиметрії** (зсунена, асимптотично незсунена):  \n",
    "## ${{g }_1} = \\frac{{{\\mu _3}}}{{{{\\left( {\\hat \\sigma } \\right)}^3}}}$\n",
    "### де ${\\mu _3} = \\frac{1}{n}\\sum\\limits_{k = 1}^n {{{\\left( {{\\xi _k} - {\\nu _1}} \\right)}^3}} $,    $\\hat \\sigma  = \\sqrt {{\\mu _2}} $ \n",
    "Незсунена **оцінка коефіцієнта асиметрії**:\n",
    "## ${G_1} = \\frac{{\\sqrt {n(n - 1)} }}{{n - 2}}\\frac{{{\\mu _3}}}{{{{\\left( {\\hat \\sigma } \\right)}^3}}}$\n"
   ]
  },
  {
   "cell_type": "code",
   "execution_count": 7,
   "metadata": {},
   "outputs": [
    {
     "data": {
      "text/plain": [
       "-0.32276687566823553"
      ]
     },
     "execution_count": 7,
     "metadata": {},
     "output_type": "execute_result"
    }
   ],
   "source": [
    "# незсунена оцінка коефіцієнта асиметрії (якщо bias = 1 (або не вказувати bias), то буде зсунена оцінка коефіцієнта асиметрії)\n",
    "skew_est = skew(X, bias = 0)\n",
    "\n",
    "skew_est"
   ]
  },
  {
   "cell_type": "markdown",
   "metadata": {},
   "source": [
    "**Оцінка коефіцієнта ексцесу** (за Фішером, тобто коефіцієнт ексцесу дорівнює нулю для нормального розподілу) \n",
    "## ${{g }_2} = \\frac{{{\\mu _4}}}{{{{\\left( {\\hat \\sigma } \\right)}^4}}}-3$\n",
    "### де ${\\mu _4} = \\frac{1}{n}\\sum\\limits_{k = 1}^n {{{\\left( {{\\xi _k} - {\\nu _1}} \\right)}^4}} $,    $\\hat \\sigma  = \\sqrt {{\\mu _2}} $ "
   ]
  },
  {
   "cell_type": "code",
   "execution_count": 8,
   "metadata": {},
   "outputs": [
    {
     "data": {
      "text/plain": [
       "-0.4968483053768682"
      ]
     },
     "execution_count": 8,
     "metadata": {},
     "output_type": "execute_result"
    }
   ],
   "source": [
    "kurt_est = kurtosis(X, fisher=1, bias=0)\n",
    "\n",
    "kurt_est"
   ]
  },
  {
   "cell_type": "markdown",
   "metadata": {},
   "source": [
    "### Завдання"
   ]
  },
  {
   "cell_type": "markdown",
   "metadata": {},
   "source": [
    "Для випадкових послідовностей на вході і на виході нелінійної динамічної системи, вибірки яких отримано раніше, **оцінити** математичне сподівання і медіану, дисперсію, середнє квадратичне відхилення, коефіцієнти асиметрії і ексцесу, квантиль рівня $\\large V\\over60$.  \n",
    "Порівняти отримані реалізації оцінок з теоретичними характеристиками, обчисленими раніше. Як, на Вашу думку, можна підвищити точність оцінювання? "
   ]
  }
 ],
 "metadata": {
  "kernelspec": {
   "display_name": "Python 3 (ipykernel)",
   "language": "python",
   "name": "python3"
  },
  "language_info": {
   "codemirror_mode": {
    "name": "ipython",
    "version": 3
   },
   "file_extension": ".py",
   "mimetype": "text/x-python",
   "name": "python",
   "nbconvert_exporter": "python",
   "pygments_lexer": "ipython3",
   "version": "3.9.7"
  }
 },
 "nbformat": 4,
 "nbformat_minor": 4
}
